{
  "nbformat": 4,
  "nbformat_minor": 0,
  "metadata": {
    "kernelspec": {
      "display_name": "Python 3",
      "language": "python",
      "name": "python3"
    },
    "language_info": {
      "codemirror_mode": {
        "name": "ipython",
        "version": 3
      },
      "file_extension": ".py",
      "mimetype": "text/x-python",
      "name": "python",
      "nbconvert_exporter": "python",
      "pygments_lexer": "ipython3",
      "version": "3.9.5"
    },
    "colab": {
      "name": "Gray Scott.ipynb",
      "provenance": []
    }
  },
  "cells": [
    {
      "cell_type": "code",
      "metadata": {
        "id": "Pa94cVd7R9fQ"
      },
      "source": [
        "%matplotlib inline\n",
        "import numpy as np\n",
        "import matplotlib.pyplot as plt\n",
        "from scipy.sparse import spdiags \n",
        "import time \n",
        "import glob\n",
        "from PIL import Image\n",
        "import os\n",
        "\n"
      ],
      "execution_count": 3,
      "outputs": []
    },
    {
      "cell_type": "code",
      "metadata": {
        "id": "j_JOgJ2HR9fe"
      },
      "source": [
        "\n",
        "\n",
        "class GrayScott():\n",
        "    \"\"\"Class to solve Gray-Scott Reaction-Diffusion equation\"\"\"\n",
        "    def __init__(self, N):\n",
        "        self.N = N\n",
        "        self.u = np.ones((N, N), dtype=np.float64)\n",
        "        self.v = np.zeros((N, N), dtype=np.float64)\n",
        "        \n",
        "        self.matrix_u = []\n",
        "        self.matrix_v = []\n",
        "        \n",
        "        self.iteration = 0\n",
        "    \n",
        "    def matrix_u(self):\n",
        "        return self.matrix_u\n",
        "    \n",
        "    def matrix_v(self):\n",
        "        return self.matrix_v\n",
        "    \n",
        "    def laplacian(self):\n",
        "        \"\"\"Construct a sparse matrix that applies the 5-point discretization\"\"\"\n",
        "        N = self.N\n",
        "        e = np.ones(N**2)\n",
        "        e2 = ([1] * (N - 1) + [0]) * N\n",
        "        e3 = ([0] + [1] * (N - 1)) * N\n",
        "        A = spdiags([-4 * e , e2, e3, e, e],[0, -1, 1, -N, N], N**2, N**2)\n",
        "        return A\n",
        "\n",
        "\n",
        "    def initialise(self):\n",
        "        \"\"\"Setting up the initial condition\"\"\"\n",
        "        N, N2, r = self.N, int(self.N / 2), 16\n",
        "        \n",
        "        self.u += 0.02 * np.random.random((N, N))\n",
        "        self.v += 0.02 * np.random.random((N, N))\n",
        "        \n",
        "        self.u[N2-r:N2+r, N2-r:N2+r] = 0.50\n",
        "        self.v[N2-r:N2+r, N2-r:N2+r] = 0.25\n",
        "        return  \n",
        "    \n",
        "    def saveFrame(self):\n",
        "        plt.plot(self.u, self.v)\n",
        "        variable = \"Images/\"  + str(self.iteration) + \".png\"\n",
        "        self.iteration +=1\n",
        "        plt.savefig(variable)\n",
        "        plt.close()\n",
        "\n",
        "    \n",
        "    def integrate(self, Nt, Du, Dv, F, K, L):\n",
        "        \"\"\"Integrate the resulting system of equations using the Euler method\"\"\"\n",
        "        u = self.u.reshape((N*N))\n",
        "        v = self.v.reshape((N*N))\n",
        "\n",
        "        #evolve in time using Euler method\n",
        "        for i in range(Nt):\n",
        "            uvv = u*v*v\n",
        "            u += (Du*L.dot(u) - uvv +  F *(1-u))\n",
        "            v += (Dv*L.dot(v) + uvv - (F+K)*v  )\n",
        "\n",
        "            if(i % Nt / 10 == 0):\n",
        "              print(\"Processing: {:.0f}\\n\".format(i/Nt)*100)\n",
        "        \n",
        "            self.configPlot()\n",
        "            \n",
        "        self.u = u\n",
        "        self.v = v\n",
        "        \n",
        "\n",
        "    \n",
        "    def configPlot(self):\n",
        "        u = self.u\n",
        "        v = self.v\n",
        "        f = plt.figure(figsize=(25, 10), dpi=400, facecolor='w', edgecolor='k');\n",
        "        sp =  f.add_subplot(1, 2, 1 );\n",
        "        plt.pcolor(u.reshape((N, N)), cmap=plt.cm.RdBu)\n",
        "        plt.axis('tight')\n",
        "\n",
        "        sp =  f.add_subplot(1, 2, 2 );\n",
        "        plt.pcolor(v.reshape((N, N)), cmap=plt.cm.RdBu)\n",
        "        plt.axis('tight')\n",
        "\n",
        "        variable = \"Images/\"  + str(self.iteration) + \".png\"\n",
        "        self.iteration +=1\n",
        "        plt.savefig(variable)\n",
        "        plt.close()\n",
        "\n",
        "        \n",
        "def make_gif(frame_folder):\n",
        "    frames = [Image.open(image) for image in glob.glob(f\"{frame_folder}/*.JPG\")]\n",
        "    frame_one = frames[0]\n",
        "    frame_one.save(\"my_awesome.gif\", format=\"GIF\", append_images=frames,\n",
        "               save_all=True, duration=100, loop=0)\n",
        "    \n",
        "\n",
        "    os.system(\"rm -rf Images\")\n",
        "    os.system(\"mkdir  Images\")"
      ],
      "execution_count": 4,
      "outputs": []
    },
    {
      "cell_type": "code",
      "metadata": {
        "scrolled": false,
        "id": "Ov4yIVaQR9fi",
        "outputId": "b1025f51-2fc8-4e72-b7ed-e4297a88235d",
        "colab": {
          "base_uri": "https://localhost:8080/"
        }
      },
      "source": [
        "# Bacteria\n",
        "# os.system(\"mkdir Images\")\n",
        "inicio = time.time()\n",
        "print(\"Rodando...\")\n",
        "\n",
        "N = 256\n",
        "rdSolver = GrayScott(N)\n",
        "L = rdSolver.laplacian()\n",
        "Du, Dv, F, K = 0.14, 0.06, 0.035, 0.065\n",
        "Nt = 100\n",
        "\n",
        "rdSolver.initialise()\n",
        "rdSolver.integrate(Nt, Du, Dv, F, K, L)\n",
        "rdSolver.configPlot()\n",
        "make_gif()\n",
        "\n",
        "print(\"Demorou {} segundos\".format(time.time() - inicio))"
      ],
      "execution_count": null,
      "outputs": [
        {
          "output_type": "stream",
          "text": [
            "Rodando...\n",
            "Processing: 0Processing: 0Processing: 0Processing: 0Processing: 0Processing: 0Processing: 0Processing: 0Processing: 0Processing: 0Processing: 0Processing: 0Processing: 0Processing: 0Processing: 0Processing: 0Processing: 0Processing: 0Processing: 0Processing: 0Processing: 0Processing: 0Processing: 0Processing: 0Processing: 0Processing: 0Processing: 0Processing: 0Processing: 0Processing: 0Processing: 0Processing: 0Processing: 0Processing: 0Processing: 0Processing: 0Processing: 0Processing: 0Processing: 0Processing: 0Processing: 0Processing: 0Processing: 0Processing: 0Processing: 0Processing: 0Processing: 0Processing: 0Processing: 0Processing: 0Processing: 0Processing: 0Processing: 0Processing: 0Processing: 0Processing: 0Processing: 0Processing: 0Processing: 0Processing: 0Processing: 0Processing: 0Processing: 0Processing: 0Processing: 0Processing: 0Processing: 0Processing: 0Processing: 0Processing: 0Processing: 0Processing: 0Processing: 0Processing: 0Processing: 0Processing: 0Processing: 0Processing: 0Processing: 0Processing: 0Processing: 0Processing: 0Processing: 0Processing: 0Processing: 0Processing: 0Processing: 0Processing: 0Processing: 0Processing: 0Processing: 0Processing: 0Processing: 0Processing: 0Processing: 0Processing: 0Processing: 0Processing: 0Processing: 0Processing: 0\n"
          ],
          "name": "stdout"
        }
      ]
    },
    {
      "cell_type": "code",
      "metadata": {
        "id": "8tTRJhF7R9fo"
      },
      "source": [
        "# Coral Patterns\n",
        "\n",
        "inicio = time.time()\n",
        "\n",
        "N = 256\n",
        "rdSolver = GrayScott(N)\n",
        "L = rdSolver.laplacian()\n",
        "Du, Dv, F, K = 0.16, 0.08, 0.060, 0.062 \n",
        "Nt = 32000 \n",
        "\n",
        "rdSolver.initialise()\n",
        "rdSolver.integrate(Nt, Du, Dv, F, K, L)\n",
        "rdSolver.configPlot()\n",
        "\n",
        "\n",
        "print(\"Demorou {} segundos\".format(time.time() - inicio))\n"
      ],
      "execution_count": null,
      "outputs": []
    },
    {
      "cell_type": "code",
      "metadata": {
        "id": "av6sD3YAR9fq"
      },
      "source": [
        "# Espirais\n",
        "\n",
        "\n",
        "inicio = time.time()\n",
        "\n",
        "N = 256\n",
        "rdSolver = GrayScott(N)\n",
        "L = rdSolver.laplacian()\n",
        "Du, Dv, F, K = 0.12, 0.08, 0.020, 0.050\n",
        "Nt = 32000 \n",
        "\n",
        "rdSolver.initialise()\n",
        "rdSolver.integrate(Nt, Du, Dv, F, K, L)\n",
        "rdSolver.configPlot()\n",
        "\n",
        "\n",
        "print(\"Demorou {} segundos\".format(time.time() - inicio))"
      ],
      "execution_count": null,
      "outputs": []
    },
    {
      "cell_type": "code",
      "metadata": {
        "id": "HhUEaDvcR9ft"
      },
      "source": [
        "#ZebraFish\n",
        "\n",
        "inicio = time.time()\n",
        "\n",
        "N = 256\n",
        "rdSolver = GrayScott(N)\n",
        "L = rdSolver.laplacian()\n",
        "Du, Dv, F, K = 0.16, 0.08, 0.035, 0.060\n",
        "Nt = 32000 \n",
        "\n",
        "rdSolver.initialise()\n",
        "rdSolver.integrate(Nt, Du, Dv, F, K, L)\n",
        "rdSolver.configPlot()\n",
        "\n",
        "\n",
        "print(\"Demorou {} segundos\".format(time.time() - inicio))"
      ],
      "execution_count": null,
      "outputs": []
    },
    {
      "cell_type": "code",
      "metadata": {
        "id": "Vc0hMVFhR9fu"
      },
      "source": [
        ""
      ],
      "execution_count": null,
      "outputs": []
    },
    {
      "cell_type": "code",
      "metadata": {
        "id": "Cb9Cbp_6R9fw"
      },
      "source": [
        ""
      ],
      "execution_count": null,
      "outputs": []
    },
    {
      "cell_type": "code",
      "metadata": {
        "id": "OsPT9bYdR9fy"
      },
      "source": [
        ""
      ],
      "execution_count": null,
      "outputs": []
    }
  ]
}